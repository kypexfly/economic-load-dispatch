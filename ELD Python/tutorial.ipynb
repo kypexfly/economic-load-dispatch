{
 "cells": [
  {
   "cell_type": "markdown",
   "metadata": {},
   "source": [
    "# Economic Load Dispatch\n",
    "CODE BY: Ricardo Chu Zheng, 2022\n",
    "\n",
    "REFERENCE: Power Generation, Operation, and Control, Allen J. Wood, Bruce F. Wollenberg, Gerald B. Sheblé (2013)\n",
    "\n",
    "METHODS:\n",
    "* Binary Search Method: <code>binary_search(data, PD)</code>\n",
    "* Iterative Lambda Method: <code>iterative_lambda(data, PD)</code>\n",
    "* Iterative with Losses: <code>iterative_w_losses(data, PD, Ploss)</code>\n",
    "\n",
    "INSTRUCTIONS:\n",
    "1. Download ELD.py\n",
    "2. Create a Jupyter Notebook in the same folder\n",
    "3. Import numpy and any ELD method mentioned above, for example: <code>from ELD import binary_search </code>\n",
    "4. Make a <code>np.array</code> containing the cost functions and their generation limits. See <code>data</code> variable.\n",
    "5. Set PD (load/power demand in MW), for example: <code>PD = 1200</code>\n",
    "6. For Iterative with Losses, set Ploss function as a string, <code>Ploss = \"0.00005*P0 + 0.00008*P1\"</code>\n",
    "7. Call the function <code>binary_search(data, PD)</code>\n",
    "\n",
    "LIBRARIES USED:\n",
    "* numpy\n",
    "* sympy\n"
   ]
  },
  {
   "cell_type": "code",
   "execution_count": 1,
   "metadata": {},
   "outputs": [],
   "source": [
    "import numpy as np\n",
    "from ELD import iterative_lambda, binary_search, iterative_w_losses\n",
    "np.set_printoptions(suppress=True)"
   ]
  },
  {
   "cell_type": "code",
   "execution_count": 2,
   "metadata": {},
   "outputs": [],
   "source": [
    "data = np.array([\n",
    "    # a         b       c       PMIN    PMAX\n",
    "    [0.002,    7.2,     500,    400,    550],\n",
    "    [0.0022,   7.5,     350,    100,    400],\n",
    "    [0.0035,   8,       9,      50,     200],\n",
    "])"
   ]
  },
  {
   "cell_type": "code",
   "execution_count": 3,
   "metadata": {},
   "outputs": [
    {
     "name": "stdout",
     "output_type": "stream",
     "text": [
      "Binary search method:\n",
      " [400.         289.47368456 110.52631601] \n",
      "\n",
      "Iterative lambda method:\n",
      " [400.         289.47368375 110.5263155 ] \n",
      "\n"
     ]
    }
   ],
   "source": [
    "PD = 800\n",
    "\n",
    "print(\"Binary search method:\\n\", binary_search(data, PD), \"\\n\")\n",
    "print(\"Iterative lambda method:\\n\", iterative_lambda(data, PD), \"\\n\")"
   ]
  },
  {
   "cell_type": "code",
   "execution_count": 4,
   "metadata": {},
   "outputs": [
    {
     "name": "stdout",
     "output_type": "stream",
     "text": [
      "Iterative with losses:\n",
      " [410.38058867 285.1345847  116.03071123] \n",
      "\n"
     ]
    }
   ],
   "source": [
    "Ploss = \"0.00003*P0**2 + 0.00006*P1**2 + 0.00012*P2**2\"\n",
    "print(\"Iterative with losses:\\n\", iterative_w_losses(data, PD, Ploss), \"\\n\")"
   ]
  }
 ],
 "metadata": {
  "interpreter": {
   "hash": "6adb783109212a9645f5557eab6d0ce85c1ff850583f126808de97e966b26630"
  },
  "kernelspec": {
   "display_name": "Python 3.9.7 ('base')",
   "language": "python",
   "name": "python3"
  },
  "language_info": {
   "codemirror_mode": {
    "name": "ipython",
    "version": 3
   },
   "file_extension": ".py",
   "mimetype": "text/x-python",
   "name": "python",
   "nbconvert_exporter": "python",
   "pygments_lexer": "ipython3",
   "version": "3.9.7"
  },
  "orig_nbformat": 4
 },
 "nbformat": 4,
 "nbformat_minor": 2
}
